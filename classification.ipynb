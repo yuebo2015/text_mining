{
 "cells": [
  {
   "cell_type": "markdown",
   "metadata": {
    "collapsed": true
   },
   "source": [
    "# 文本分类的思路"
   ]
  },
  {
   "cell_type": "markdown",
   "metadata": {},
   "source": [
    "## 文本有效信息的提取"
   ]
  },
  {
   "cell_type": "markdown",
   "metadata": {},
   "source": [
    "### 文本预处理"
   ]
  },
  {
   "cell_type": "markdown",
   "metadata": {},
   "source": [
    "分词清理等工作"
   ]
  },
  {
   "cell_type": "markdown",
   "metadata": {},
   "source": [
    "### 特征抽取"
   ]
  },
  {
   "cell_type": "markdown",
   "metadata": {},
   "source": [
    "从文档中抽取反应文档主题的特征。\n",
    "- 基于词袋模型时考虑的特征抽取方法：  \n",
    "    1. 词频（基于词袋模型的文档-词条矩阵）；\n",
    "    2. 关键词（IF-IDF）；\n",
    "    3. 文档主题（LDA）。\n",
    "- 基于分布式表示的特征抽取方法：\n",
    "    1. word2vec;\n",
    "    2. cbow;\n",
    "    3. fast text。"
   ]
  },
  {
   "cell_type": "markdown",
   "metadata": {},
   "source": [
    "## 分类器的选择和训练"
   ]
  },
  {
   "cell_type": "markdown",
   "metadata": {},
   "source": [
    "理论上讲，在文本特征抽取之后，就进入了常规机器学习分类模型的框架，但作为文本分类也有其特殊性，主要有以下几点：\n",
    "    1. 自变量（词条）数量极多；\n",
    "    2. 各自变量之间（词条）不可能完全独立；\n",
    "    3. 大部分自变量（词条）都是干扰项，对分类没有贡献；\n",
    "所以在分类模型选择上主要考虑以下几点：\n",
    "    1. 速度-文本数据量一般比较大；\n",
    "    2. 变量筛选能力-能够从大部分是无效变量的情况下筛选出有效变量；\n",
    "    3. 容错性-分类模型是建立在特征抽取的基础上，特征抽取过程本身不可避免的带来部分信息差错；\n",
    "    4. 共线容忍度-词条之间不可能相互独立，很多模型都有变量的独立性假设。\n",
    "基于上面两个方面的考虑，文本分类的模型通常使用朴素贝叶斯、svm两个模型。"
   ]
  },
  {
   "cell_type": "markdown",
   "metadata": {},
   "source": [
    "## 标准化评测"
   ]
  },
  {
   "cell_type": "markdown",
   "metadata": {},
   "source": [
    "## 注意要点"
   ]
  },
  {
   "cell_type": "markdown",
   "metadata": {},
   "source": [
    "训练语料本身的质量、数据清理、特征抽取、算法选择和训练每一个环节都会对最终的分类效果造成巨大影响，所以在模型调优上不能只侧重单个环节，根据结果不断启发、尝试找到最佳的方法手段组合，没有一种普适的方法。"
   ]
  },
  {
   "cell_type": "markdown",
   "metadata": {},
   "source": [
    "# 实验1-搜狗语料库"
   ]
  },
  {
   "cell_type": "markdown",
   "metadata": {},
   "source": [
    "1. ensure_data第一次执行时下载 http://file.hankcs.com/corpus/sogou-text-classification-corpus-mini.zip 到 /Users/kitty/anaconda3/envs/nlp/lib/python3.6/site-packages/pyhanlp/static/data/test/搜狗文本分类语料库迷你版.zip，下载完成后自动解压zip包并删除zip包；"
   ]
  },
  {
   "cell_type": "code",
   "execution_count": 2,
   "metadata": {
    "collapsed": true
   },
   "outputs": [],
   "source": [
    "from pyhanlp import *\n",
    "from tests.test_utility import ensure_data\n",
    "\n",
    "sogou_corpus_path = ensure_data('搜狗文本分类语料库迷你版',\n",
    "                                'http://file.hankcs.com/corpus/sogou-text-classification-corpus-mini.zip')\n",
    "MemoryDataSet = JClass('com.hankcs.hanlp.classification.corpus.MemoryDataSet')"
   ]
  },
  {
   "cell_type": "markdown",
   "metadata": {},
   "source": []
  },
  {
   "cell_type": "code",
   "execution_count": 3,
   "metadata": {},
   "outputs": [
    {
     "name": "stdout",
     "output_type": "stream",
     "text": [
      "标注集：[教育, 汽车, 健康, 军事, 体育]\n",
      "第一篇文档的类别：教育\n"
     ]
    }
   ],
   "source": [
    "dataSet = MemoryDataSet()  # 将数据集加载到内存中\n",
    "dataSet.load(sogou_corpus_path)  # 加载data/test/搜狗文本分类语料库迷你版\n",
    "allClasses = dataSet.getCatalog().getCategories()  # 获取标注集\n",
    "print(\"标注集：%s\" % (allClasses))\n",
    "for document in dataSet.iterator():\n",
    "    print(\"第一篇文档的类别：\" + allClasses.get(document.category))\n",
    "    break"
   ]
  },
  {
   "cell_type": "markdown",
   "metadata": {
    "collapsed": true
   },
   "source": [
    "训练或加载模型"
   ]
  },
  {
   "cell_type": "code",
   "execution_count": null,
   "metadata": {
    "collapsed": true
   },
   "outputs": [],
   "source": [
    "NaiveBayesClassifier = SafeJClass('com.hankcs.hanlp.classification.classifiers.NaiveBayesClassifier')\n",
    "IOUtil = SafeJClass('com.hankcs.hanlp.corpus.io.IOUtil')"
   ]
  },
  {
   "cell_type": "code",
   "execution_count": null,
   "metadata": {
    "collapsed": true
   },
   "outputs": [],
   "source": [
    "def train_or_load_classifier():\n",
    "    model_path = sogou_corpus_path + '.ser'\n",
    "    if os.path.isfile(model_path):\n",
    "        return NaiveBayesClassifier(IOUtil.readObjectFrom(model_path))\n",
    "    classifier = NaiveBayesClassifier()\n",
    "    classifier.train(sogou_corpus_path)\n",
    "    model = classifier.getModel()\n",
    "    IOUtil.saveObjectTo(model, model_path)\n",
    "    return NaiveBayesClassifier(model)"
   ]
  },
  {
   "cell_type": "code",
   "execution_count": null,
   "metadata": {
    "collapsed": true
   },
   "outputs": [],
   "source": [
    "def predict(classifier, text):\n",
    "    print(\"《%16s》\\t属于分类\\t【%s】\" % (text, classifier.classify(text)))\n",
    "    # 如需获取离散型随机变量的分布，请使用predict接口\n",
    "    # print(\"《%16s》\\t属于分类\\t【%s】\" % (text, classifier.predict(text)))"
   ]
  },
  {
   "cell_type": "code",
   "execution_count": 6,
   "metadata": {},
   "outputs": [
    {
     "name": "stdout",
     "output_type": "stream",
     "text": [
      "《C罗获2018环球足球奖最佳球员 德尚荣膺最佳教练》\t属于分类\t【体育】\n",
      "《英国造航母耗时8年仍未服役 被中国速度远远甩在身后》\t属于分类\t【军事】\n",
      "《 研究生考录模式亟待进一步专业化》\t属于分类\t【教育】\n",
      "《如果真想用食物解压,建议可以食用燕麦》\t属于分类\t【健康】\n",
      "《通用及其部分竞争对手目前正在考虑解决库存问题》\t属于分类\t【汽车】\n"
     ]
    }
   ],
   "source": [
    "classifier = train_or_load_classifier()\n",
    "predict(classifier, \"C罗获2018环球足球奖最佳球员 德尚荣膺最佳教练\")\n",
    "predict(classifier, \"英国造航母耗时8年仍未服役 被中国速度远远甩在身后\")\n",
    "predict(classifier, \"研究生考录模式亟待进一步专业化\")\n",
    "predict(classifier, \"如果真想用食物解压,建议可以食用燕麦\")\n",
    "predict(classifier, \"通用及其部分竞争对手目前正在考虑解决库存问题\")"
   ]
  },
  {
   "cell_type": "code",
   "execution_count": null,
   "metadata": {
    "collapsed": true
   },
   "outputs": [],
   "source": []
  }
 ],
 "metadata": {
  "kernelspec": {
   "display_name": "Python 3",
   "language": "python",
   "name": "python3"
  },
  "language_info": {
   "codemirror_mode": {
    "name": "ipython",
    "version": 3
   },
   "file_extension": ".py",
   "mimetype": "text/x-python",
   "name": "python",
   "nbconvert_exporter": "python",
   "pygments_lexer": "ipython3",
   "version": "3.6.7"
  },
  "toc": {
   "base_numbering": 1,
   "nav_menu": {},
   "number_sections": true,
   "sideBar": true,
   "skip_h1_title": false,
   "title_cell": "Table of Contents",
   "title_sidebar": "Contents",
   "toc_cell": false,
   "toc_position": {
    "height": "calc(100% - 180px)",
    "left": "10px",
    "top": "150px",
    "width": "235px"
   },
   "toc_section_display": true,
   "toc_window_display": true
  }
 },
 "nbformat": 4,
 "nbformat_minor": 1
}
